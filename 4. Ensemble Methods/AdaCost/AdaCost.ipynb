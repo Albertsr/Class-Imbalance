{
 "cells": [
  {
   "cell_type": "markdown",
   "metadata": {},
   "source": [
    "https://github.com/scikit-learn/scikit-learn/blob/55bf5d9/sklearn/ensemble/weight_boosting.py#L295"
   ]
  },
  {
   "cell_type": "code",
   "execution_count": 1,
   "metadata": {},
   "outputs": [
    {
     "name": "stdout",
     "output_type": "stream",
     "text": [
      "Train:Test = 4000:1000\n",
      "Train_Pos:Train_Neg = 3589:411 = 8.73\n"
     ]
    }
   ],
   "source": [
    "import numpy as np\n",
    "from adacost import AdaCostClassifier \n",
    "from sklearn.ensemble import AdaBoostClassifier\n",
    "from sklearn.datasets import make_classification\n",
    "from sklearn.model_selection import train_test_split\n",
    "from sklearn.metrics import *\n",
    "\n",
    "\n",
    "# weights=[0.9, 0.1]表示类标分别取0、1的比例\n",
    "X_, y_ = make_classification(n_samples=5000, n_classes=2, n_features=10, \n",
    "                           n_informative=8, weights=[0.9, 0.1], random_state=2018)\n",
    "X_train, X_test, y_train, y_test = train_test_split(X_, y_, test_size=0.2, random_state=2018)\n",
    "\n",
    "print('Train:Test = {:}:{:}'.format(len(X_train), len(X_test)))\n",
    "\n",
    "ratio = sum(y_train==0)/sum(y_train==1)\n",
    "print('Train_Pos:Train_Neg = {:}:{:} = {:.2f}'.format(sum(y_train==0), sum(y_train==1), ratio))"
   ]
  },
  {
   "cell_type": "code",
   "execution_count": 2,
   "metadata": {},
   "outputs": [
    {
     "name": "stdout",
     "output_type": "stream",
     "text": [
      "AUC:0.755450, F1_score:0.308725, Recall:0.203540, Acc:0.897000\n"
     ]
    },
    {
     "data": {
      "text/plain": [
       "array([[874,  13],\n",
       "       [ 90,  23]], dtype=int64)"
      ]
     },
     "execution_count": 2,
     "metadata": {},
     "output_type": "execute_result"
    }
   ],
   "source": [
    "clf_ada = AdaBoostClassifier(random_state=2018)\n",
    "clf_ada.fit(X_train, y_train)\n",
    "\n",
    "y_pred = clf_ada.predict(X_test)\n",
    "y_pred_prob = clf_ada.predict_proba(X_test)[:,-1]\n",
    "auc1 = roc_auc_score(y_test, y_pred_prob)\n",
    "f1_score1 = f1_score(y_test, y_pred)\n",
    "recall = recall_score(y_test, y_pred)\n",
    "acc = accuracy_score(y_test, y_pred)\n",
    "con_matrix = confusion_matrix(y_test, y_pred)\n",
    "print('AUC:{:.6f}, F1_score:{:.6f}, Recall:{:.6f}, Acc:{:.6f}'.format(auc1, f1_score1, recall, acc))\n",
    "con_matrix"
   ]
  },
  {
   "cell_type": "code",
   "execution_count": 3,
   "metadata": {},
   "outputs": [
    {
     "name": "stdout",
     "output_type": "stream",
     "text": [
      "AUC:0.757849, F1_score:0.468468, Recall:0.460177, Acc:0.882000\n"
     ]
    },
    {
     "data": {
      "text/plain": [
       "array([[830,  57],\n",
       "       [ 61,  52]], dtype=int64)"
      ]
     },
     "execution_count": 3,
     "metadata": {},
     "output_type": "execute_result"
    }
   ],
   "source": [
    "clf_ada = AdaCostClassifier(FNcost=1.8, FPcost=1)\n",
    "clf_ada.fit(X_train, y_train)\n",
    "y_pred = clf_ada.predict(X_test)\n",
    "y_pred_prob = clf_ada.predict_proba(X_test)[:,-1]\n",
    "\n",
    "\n",
    "auc1 = roc_auc_score(y_test, y_pred_prob)\n",
    "f1_score1 = f1_score(y_test, y_pred)\n",
    "recall = recall_score(y_test, y_pred)\n",
    "acc = accuracy_score(y_test, y_pred)\n",
    "con_matrix = confusion_matrix(y_test, y_pred)\n",
    "print('AUC:{:.6f}, F1_score:{:.6f}, Recall:{:.6f}, Acc:{:.6f}'.format(auc1, f1_score1, recall, acc))\n",
    "con_matrix"
   ]
  },
  {
   "cell_type": "code",
   "execution_count": 4,
   "metadata": {
    "scrolled": true
   },
   "outputs": [
    {
     "name": "stdout",
     "output_type": "stream",
     "text": [
      "AUC:0.721399, F1_score:0.207743, Recall:0.973451, Acc:0.161000\n"
     ]
    },
    {
     "data": {
      "text/plain": [
       "array([[ 51, 836],\n",
       "       [  3, 110]], dtype=int64)"
      ]
     },
     "execution_count": 4,
     "metadata": {},
     "output_type": "execute_result"
    }
   ],
   "source": [
    "clf_ada = AdaCostClassifier(FNcost=ratio, random_state=2018)\n",
    "clf_ada.fit(X_train, y_train)\n",
    "y_pred = clf_ada.predict(X_test)\n",
    "y_pred_prob = clf_ada.predict_proba(X_test)[:,-1]\n",
    "\n",
    "auc1 = roc_auc_score(y_test, y_pred_prob)\n",
    "f1_score1 = f1_score(y_test, y_pred)\n",
    "recall = recall_score(y_test, y_pred)\n",
    "acc = accuracy_score(y_test, y_pred)\n",
    "con_matrix = confusion_matrix(y_test, y_pred)\n",
    "print('AUC:{:.6f}, F1_score:{:.6f}, Recall:{:.6f}, Acc:{:.6f}'.format(auc1, f1_score1, recall, acc))\n",
    "con_matrix"
   ]
  },
  {
   "cell_type": "code",
   "execution_count": 5,
   "metadata": {},
   "outputs": [],
   "source": [
    "import time\n",
    "from sklearn.model_selection import GridSearchCV\n",
    "def Grid(model, param, X_train=X_train, y_train=y_train, scoring='roc_auc', cv=3):\n",
    "    start = time.time()\n",
    "    grid = GridSearchCV(model, param_grid=param, cv=cv, scoring=scoring, iid=False, n_jobs=4)\n",
    "    grid.fit(X_train, y_train)\n",
    "    end = time.time()\n",
    "    searchtime = end - start\n",
    "    return grid.best_estimator_, grid.best_score_, grid.best_params_, searchtime"
   ]
  },
  {
   "cell_type": "code",
   "execution_count": 6,
   "metadata": {},
   "outputs": [
    {
     "name": "stdout",
     "output_type": "stream",
     "text": [
      "0.9902676399026764 {'FNcost': 8.732360097323602, 'FPcost': 1.0} 52.454869508743286\n",
      "AUC:0.721399, F1_score:0.207743, Recall:0.973451, Acc:0.161000\n"
     ]
    }
   ],
   "source": [
    "AdaCost_grid = AdaCostClassifier(random_state=2018)\n",
    "param = {'FNcost':np.linspace(1.1, ratio, 3), 'FPcost':np.linspace(0.5, 1, 3)}\n",
    "\n",
    "grid_result = Grid(AdaCost_grid, param, scoring='recall')\n",
    "best_model = grid_result[0]\n",
    "print(grid_result[1], grid_result[2], grid_result[3])\n",
    "\n",
    "y_pred = grid_result[0].predict(X_test)\n",
    "y_pred_prob = grid_result[0].predict_proba(X_test)[:,-1]\n",
    "auc = roc_auc_score(y_test, y_pred_prob)\n",
    "f1_score1 = f1_score(y_test, y_pred)\n",
    "recall = recall_score(y_test, y_pred)\n",
    "acc = accuracy_score(y_test, y_pred)\n",
    "con_matrix = confusion_matrix(y_test, y_pred)\n",
    "print('AUC:{:.6f}, F1_score:{:.6f}, Recall:{:.6f}, Acc:{:.6f}'.format(auc, f1_score1, recall, acc))"
   ]
  }
 ],
 "metadata": {
  "kernelspec": {
   "display_name": "Python 3",
   "language": "python",
   "name": "python3"
  },
  "language_info": {
   "codemirror_mode": {
    "name": "ipython",
    "version": 3
   },
   "file_extension": ".py",
   "mimetype": "text/x-python",
   "name": "python",
   "nbconvert_exporter": "python",
   "pygments_lexer": "ipython3",
   "version": "3.7.1"
  }
 },
 "nbformat": 4,
 "nbformat_minor": 2
}
